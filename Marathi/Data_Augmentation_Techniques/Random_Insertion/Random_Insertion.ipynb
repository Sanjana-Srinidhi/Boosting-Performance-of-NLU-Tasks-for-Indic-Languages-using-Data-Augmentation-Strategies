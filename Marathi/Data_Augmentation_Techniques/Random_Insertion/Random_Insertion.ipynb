{
  "nbformat": 4,
  "nbformat_minor": 0,
  "metadata": {
    "colab": {
      "provenance": []
    },
    "kernelspec": {
      "name": "python3",
      "display_name": "Python 3"
    },
    "language_info": {
      "name": "python"
    }
  },
  "cells": [
    {
      "cell_type": "code",
      "source": [
        "! pip install indic-nlp-library --quiet\n",
        "! pip install pyiwn --quiet"
      ],
      "metadata": {
        "id": "dZaHGSmbv8bm"
      },
      "execution_count": 50,
      "outputs": []
    },
    {
      "cell_type": "code",
      "source": [
        "import pyiwn \n",
        "import random\n",
        "import nltk\n",
        "import pandas as pd\n",
        "from indicnlp.tokenize import indic_tokenize\n",
        "iwn = pyiwn.IndoWordNet(lang=pyiwn.Language.HINDI) "
      ],
      "metadata": {
        "id": "l7ahuazc1MtG"
      },
      "execution_count": 58,
      "outputs": []
    },
    {
      "cell_type": "code",
      "source": [
        "def get_synonyms(word):\n",
        "    #Get synonyms of word in the specified language.\n",
        "    synonyms=[]\n",
        "    try:\n",
        "      all_synsets = iwn.synsets(word)\n",
        "    except:\n",
        "      return []\n",
        "    for synset in all_synsets:\n",
        "        lemmas = synset.lemma_names()\n",
        "        for lemma in lemmas:\n",
        "            if lemma != word:\n",
        "                synonyms.append(lemma)\n",
        "    return synonyms"
      ],
      "metadata": {
        "id": "XrURrIkAtqt4"
      },
      "execution_count": 52,
      "outputs": []
    },
    {
      "cell_type": "code",
      "source": [
        "def random_insertion(text, n=3):\n",
        "    #Randomly insert n synonymous words into text.\n",
        "    tokens = indic_tokenize.trivial_tokenize(text)\n",
        "    for _ in range(n):\n",
        "        random_index = random.randint(0, len(tokens)-1)\n",
        "        random_word = tokens[random_index]\n",
        "        synonyms = get_synonyms(random_word)\n",
        "        # print(synonyms)\n",
        "        if len(synonyms) > 1:\n",
        "            random_synonym = random.choice(synonyms)\n",
        "            while random_synonym == random_word:\n",
        "                random_synonym = random.choice(synonyms)\n",
        "            tokens[random_index] = random_synonym\n",
        "    return ' '.join(tokens)"
      ],
      "metadata": {
        "id": "f94KaCzz45ZN"
      },
      "execution_count": 56,
      "outputs": []
    },
    {
      "cell_type": "code",
      "source": [
        "# random_insertion(\"लगभग 1300 हेक्टेयर ज़मीन का अधिग्रहण किया जा\",random.randint(0,len(sentence)))"
      ],
      "metadata": {
        "colab": {
          "base_uri": "https://localhost:8080/",
          "height": 35
        },
        "id": "RfZI10AXtsYc",
        "outputId": "5044c33a-8199-463e-a958-ded42c376be0"
      },
      "execution_count": 55,
      "outputs": [
        {
          "output_type": "execute_result",
          "data": {
            "text/plain": [
              "'लगभग 1300 हैक्टर जगद्वहा का अधिग्रहण किया जा'"
            ],
            "application/vnd.google.colaboratory.intrinsic+json": {
              "type": "string"
            }
          },
          "metadata": {},
          "execution_count": 55
        }
      ]
    },
    {
      "cell_type": "code",
      "source": [
        "# Read input CSV file as DataFrame\n",
        "df = pd.read_csv('/content/drive/MyDrive/NLP/data/clean-hindi-train.csv')\n",
        "df.head()"
      ],
      "metadata": {
        "colab": {
          "base_uri": "https://localhost:8080/",
          "height": 206
        },
        "id": "P_ZGL0kYwSB6",
        "outputId": "1c7d6c95-c54f-4c3a-9be6-ddfe3ec9638e"
      },
      "execution_count": 60,
      "outputs": [
        {
          "output_type": "execute_result",
          "data": {
            "text/plain": [
              "   label                                               text\n",
              "0      1  मेट्रो की इस लाइन के चलने से दक्षिणी दिल्ली से...\n",
              "1      1  प्रतीक खुलेपन का आज़ाद ख्याली का और भीड़ से अल...\n",
              "2      1  ख़ासकर पिछले 10 साल तक प्रधानमंत्री रहे मनमोहन...\n",
              "3      1  चीनी भाषा में ‘नीहाव’ (क्या हाल हैं) कहकर वो अ...\n",
              "4      1  मुंबई पुलिस की क्राईम ब्रांच को इस जांच का जिम..."
            ],
            "text/html": [
              "\n",
              "  <div id=\"df-55e5794a-b583-47c7-bb44-1bf166093837\">\n",
              "    <div class=\"colab-df-container\">\n",
              "      <div>\n",
              "<style scoped>\n",
              "    .dataframe tbody tr th:only-of-type {\n",
              "        vertical-align: middle;\n",
              "    }\n",
              "\n",
              "    .dataframe tbody tr th {\n",
              "        vertical-align: top;\n",
              "    }\n",
              "\n",
              "    .dataframe thead th {\n",
              "        text-align: right;\n",
              "    }\n",
              "</style>\n",
              "<table border=\"1\" class=\"dataframe\">\n",
              "  <thead>\n",
              "    <tr style=\"text-align: right;\">\n",
              "      <th></th>\n",
              "      <th>label</th>\n",
              "      <th>text</th>\n",
              "    </tr>\n",
              "  </thead>\n",
              "  <tbody>\n",
              "    <tr>\n",
              "      <th>0</th>\n",
              "      <td>1</td>\n",
              "      <td>मेट्रो की इस लाइन के चलने से दक्षिणी दिल्ली से...</td>\n",
              "    </tr>\n",
              "    <tr>\n",
              "      <th>1</th>\n",
              "      <td>1</td>\n",
              "      <td>प्रतीक खुलेपन का आज़ाद ख्याली का और भीड़ से अल...</td>\n",
              "    </tr>\n",
              "    <tr>\n",
              "      <th>2</th>\n",
              "      <td>1</td>\n",
              "      <td>ख़ासकर पिछले 10 साल तक प्रधानमंत्री रहे मनमोहन...</td>\n",
              "    </tr>\n",
              "    <tr>\n",
              "      <th>3</th>\n",
              "      <td>1</td>\n",
              "      <td>चीनी भाषा में ‘नीहाव’ (क्या हाल हैं) कहकर वो अ...</td>\n",
              "    </tr>\n",
              "    <tr>\n",
              "      <th>4</th>\n",
              "      <td>1</td>\n",
              "      <td>मुंबई पुलिस की क्राईम ब्रांच को इस जांच का जिम...</td>\n",
              "    </tr>\n",
              "  </tbody>\n",
              "</table>\n",
              "</div>\n",
              "      <button class=\"colab-df-convert\" onclick=\"convertToInteractive('df-55e5794a-b583-47c7-bb44-1bf166093837')\"\n",
              "              title=\"Convert this dataframe to an interactive table.\"\n",
              "              style=\"display:none;\">\n",
              "        \n",
              "  <svg xmlns=\"http://www.w3.org/2000/svg\" height=\"24px\"viewBox=\"0 0 24 24\"\n",
              "       width=\"24px\">\n",
              "    <path d=\"M0 0h24v24H0V0z\" fill=\"none\"/>\n",
              "    <path d=\"M18.56 5.44l.94 2.06.94-2.06 2.06-.94-2.06-.94-.94-2.06-.94 2.06-2.06.94zm-11 1L8.5 8.5l.94-2.06 2.06-.94-2.06-.94L8.5 2.5l-.94 2.06-2.06.94zm10 10l.94 2.06.94-2.06 2.06-.94-2.06-.94-.94-2.06-.94 2.06-2.06.94z\"/><path d=\"M17.41 7.96l-1.37-1.37c-.4-.4-.92-.59-1.43-.59-.52 0-1.04.2-1.43.59L10.3 9.45l-7.72 7.72c-.78.78-.78 2.05 0 2.83L4 21.41c.39.39.9.59 1.41.59.51 0 1.02-.2 1.41-.59l7.78-7.78 2.81-2.81c.8-.78.8-2.07 0-2.86zM5.41 20L4 18.59l7.72-7.72 1.47 1.35L5.41 20z\"/>\n",
              "  </svg>\n",
              "      </button>\n",
              "      \n",
              "  <style>\n",
              "    .colab-df-container {\n",
              "      display:flex;\n",
              "      flex-wrap:wrap;\n",
              "      gap: 12px;\n",
              "    }\n",
              "\n",
              "    .colab-df-convert {\n",
              "      background-color: #E8F0FE;\n",
              "      border: none;\n",
              "      border-radius: 50%;\n",
              "      cursor: pointer;\n",
              "      display: none;\n",
              "      fill: #1967D2;\n",
              "      height: 32px;\n",
              "      padding: 0 0 0 0;\n",
              "      width: 32px;\n",
              "    }\n",
              "\n",
              "    .colab-df-convert:hover {\n",
              "      background-color: #E2EBFA;\n",
              "      box-shadow: 0px 1px 2px rgba(60, 64, 67, 0.3), 0px 1px 3px 1px rgba(60, 64, 67, 0.15);\n",
              "      fill: #174EA6;\n",
              "    }\n",
              "\n",
              "    [theme=dark] .colab-df-convert {\n",
              "      background-color: #3B4455;\n",
              "      fill: #D2E3FC;\n",
              "    }\n",
              "\n",
              "    [theme=dark] .colab-df-convert:hover {\n",
              "      background-color: #434B5C;\n",
              "      box-shadow: 0px 1px 3px 1px rgba(0, 0, 0, 0.15);\n",
              "      filter: drop-shadow(0px 1px 2px rgba(0, 0, 0, 0.3));\n",
              "      fill: #FFFFFF;\n",
              "    }\n",
              "  </style>\n",
              "\n",
              "      <script>\n",
              "        const buttonEl =\n",
              "          document.querySelector('#df-55e5794a-b583-47c7-bb44-1bf166093837 button.colab-df-convert');\n",
              "        buttonEl.style.display =\n",
              "          google.colab.kernel.accessAllowed ? 'block' : 'none';\n",
              "\n",
              "        async function convertToInteractive(key) {\n",
              "          const element = document.querySelector('#df-55e5794a-b583-47c7-bb44-1bf166093837');\n",
              "          const dataTable =\n",
              "            await google.colab.kernel.invokeFunction('convertToInteractive',\n",
              "                                                     [key], {});\n",
              "          if (!dataTable) return;\n",
              "\n",
              "          const docLinkHtml = 'Like what you see? Visit the ' +\n",
              "            '<a target=\"_blank\" href=https://colab.research.google.com/notebooks/data_table.ipynb>data table notebook</a>'\n",
              "            + ' to learn more about interactive tables.';\n",
              "          element.innerHTML = '';\n",
              "          dataTable['output_type'] = 'display_data';\n",
              "          await google.colab.output.renderOutput(dataTable, element);\n",
              "          const docLink = document.createElement('div');\n",
              "          docLink.innerHTML = docLinkHtml;\n",
              "          element.appendChild(docLink);\n",
              "        }\n",
              "      </script>\n",
              "    </div>\n",
              "  </div>\n",
              "  "
            ]
          },
          "metadata": {},
          "execution_count": 60
        }
      ]
    },
    {
      "cell_type": "code",
      "source": [
        "dfaug = df\n",
        "dfaug['text'] = dfaug['text'].apply(lambda x: random_insertion(x, random.randint(0,len(x))))"
      ],
      "metadata": {
        "id": "qJuHFESu7_SZ"
      },
      "execution_count": null,
      "outputs": []
    },
    {
      "cell_type": "code",
      "source": [
        "# Write updated DataFrame to output CSV file\n",
        "df = df + dfaug\n",
        "df.to_csv('RandomInsertionAugData.csv', index=False)"
      ],
      "metadata": {
        "id": "2QmaVMFB7KtD"
      },
      "execution_count": null,
      "outputs": []
    },
    {
      "cell_type": "code",
      "source": [],
      "metadata": {
        "id": "p-MkI7fk9IqK"
      },
      "execution_count": null,
      "outputs": []
    }
  ]
}